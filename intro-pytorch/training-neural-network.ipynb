{
 "cells": [
  {
   "cell_type": "code",
   "execution_count": 3,
   "metadata": {},
   "outputs": [],
   "source": [
    "import torch\n",
    "from torch import nn\n",
    "import torch.nn.functional as F\n",
    "from torchvision import datasets, transforms\n",
    "transform = transforms.Compose([transforms.ToTensor(),transforms.Normalize((0.5, 0.5, 0.5), (0.5, 0.5, 0.5)),])\n",
    "trainset = datasets.MNIST('~/.pytorch/MNIST_data/', download=True, train=True, transform=transform)\n",
    "trainloader = torch.utils.data.DataLoader(trainset, batch_size=64, shuffle=True)"
   ]
  },
  {
   "cell_type": "code",
   "execution_count": 4,
   "metadata": {},
   "outputs": [
    {
     "name": "stdout",
     "output_type": "stream",
     "text": [
      "tensor(2.3157, grad_fn=<NllLossBackward>)\n"
     ]
    }
   ],
   "source": [
    "model = nn.Sequential(nn.Linear(784, 128),nn.ReLU(),nn.Linear(128, 64),nn.ReLU(),nn.Linear(64, 10))\n",
    "criterion = nn.CrossEntropyLoss()\n",
    "images, labels = next(iter(trainloader))\n",
    "images = images.view(images.shape[0], 784)\n",
    "logits = model(images)\n",
    "loss = criterion(logits, labels)\n",
    "print(loss)"
   ]
  },
  {
   "cell_type": "code",
   "execution_count": 13,
   "metadata": {},
   "outputs": [
    {
     "name": "stdout",
     "output_type": "stream",
     "text": [
      "tensor(2.3326, grad_fn=<NllLossBackward>)\n"
     ]
    }
   ],
   "source": [
    "model = nn.Sequential(nn.Linear(784, 128),nn.ReLU(),nn.Linear(128, 64),nn.ReLU(),nn.Linear(64, 10),nn.LogSoftmax(dim=1))\n",
    "criterion = nn.NLLLoss()\n",
    "images, labels = next(iter(trainloader))\n",
    "images = images.view(images.shape[0], 784)\n",
    "logps = model(images)\n",
    "loss = criterion(logps, labels)\n",
    "print(loss)"
   ]
  },
  {
   "cell_type": "code",
   "execution_count": 14,
   "metadata": {},
   "outputs": [
    {
     "name": "stdout",
     "output_type": "stream",
     "text": [
      "Initial weights -  Parameter containing:\n",
      "tensor([[-0.0283, -0.0178,  0.0342,  ..., -0.0077,  0.0005,  0.0325],\n",
      "        [ 0.0169,  0.0009,  0.0017,  ..., -0.0192,  0.0042, -0.0242],\n",
      "        [-0.0288,  0.0331,  0.0293,  ..., -0.0311, -0.0259,  0.0140],\n",
      "        ...,\n",
      "        [ 0.0297,  0.0304,  0.0277,  ..., -0.0143, -0.0074, -0.0075],\n",
      "        [-0.0078, -0.0053, -0.0198,  ..., -0.0056, -0.0120, -0.0353],\n",
      "        [ 0.0264, -0.0300, -0.0340,  ...,  0.0116,  0.0056, -0.0128]],\n",
      "       requires_grad=True)\n",
      "Gradient - tensor([[ 0.0007,  0.0007,  0.0007,  ...,  0.0007,  0.0007,  0.0007],\n",
      "        [ 0.0003,  0.0003,  0.0003,  ...,  0.0003,  0.0003,  0.0003],\n",
      "        [-0.0060, -0.0060, -0.0060,  ..., -0.0060, -0.0060, -0.0060],\n",
      "        ...,\n",
      "        [ 0.0003,  0.0003,  0.0003,  ...,  0.0003,  0.0003,  0.0003],\n",
      "        [ 0.0000,  0.0000,  0.0000,  ...,  0.0000,  0.0000,  0.0000],\n",
      "        [ 0.0015,  0.0015,  0.0015,  ...,  0.0015,  0.0015,  0.0015]])\n"
     ]
    }
   ],
   "source": [
    "#Calculating gradients\n",
    "from torch import optim\n",
    "optimizer = optim.SGD(model.parameters(), lr=0.01)\n",
    "print('Initial weights - ', model[0].weight)\n",
    "optimizer.zero_grad()\n",
    "loss.backward()\n",
    "print('Gradient -', model[0].weight.grad)"
   ]
  },
  {
   "cell_type": "code",
   "execution_count": 15,
   "metadata": {},
   "outputs": [
    {
     "name": "stdout",
     "output_type": "stream",
     "text": [
      "Updated weights -  Parameter containing:\n",
      "tensor([[-0.0283, -0.0178,  0.0342,  ..., -0.0077,  0.0005,  0.0325],\n",
      "        [ 0.0169,  0.0009,  0.0017,  ..., -0.0192,  0.0042, -0.0242],\n",
      "        [-0.0287,  0.0332,  0.0293,  ..., -0.0311, -0.0258,  0.0141],\n",
      "        ...,\n",
      "        [ 0.0297,  0.0304,  0.0277,  ..., -0.0143, -0.0074, -0.0075],\n",
      "        [-0.0078, -0.0053, -0.0198,  ..., -0.0056, -0.0120, -0.0353],\n",
      "        [ 0.0264, -0.0300, -0.0341,  ...,  0.0115,  0.0055, -0.0128]],\n",
      "       requires_grad=True)\n"
     ]
    }
   ],
   "source": [
    "#Updating weights\n",
    "optimizer.step()\n",
    "print('Updated weights - ', model[0].weight)"
   ]
  },
  {
   "cell_type": "code",
   "execution_count": 17,
   "metadata": {},
   "outputs": [
    {
     "name": "stdout",
     "output_type": "stream",
     "text": [
      "Training loss: 1.9390268233030843\n",
      "Training loss: 0.862757583353311\n",
      "Training loss: 0.5287146633113625\n",
      "Training loss: 0.43046574679010713\n",
      "Training loss: 0.3837648629189046\n",
      "Training loss: 0.3570346289209084\n",
      "Training loss: 0.338359865719385\n",
      "Training loss: 0.3248784053903907\n",
      "Training loss: 0.313723496155444\n",
      "Training loss: 0.30402601349042424\n"
     ]
    }
   ],
   "source": [
    "#Training for 10 epochs\n",
    "model = nn.Sequential(nn.Linear(784, 128),nn.ReLU(),nn.Linear(128, 64),nn.ReLU(),nn.Linear(64, 10),nn.LogSoftmax(dim=1))\n",
    "criterion = nn.NLLLoss()\n",
    "optimizer = optim.SGD(model.parameters(), lr=0.003)\n",
    "epochs = 10\n",
    "for i in range(0,epochs):\n",
    "    running_loss = 0\n",
    "    for images, labels in trainloader:\n",
    "        images = images.view(images.shape[0],784)\n",
    "        \n",
    "        \n",
    "        #Forward pass\n",
    "        logps = model.forward(images)\n",
    "        #calculate loss\n",
    "        loss = criterion(logps, labels)\n",
    "        #gradients\n",
    "        optimizer.zero_grad()\n",
    "        loss.backward()\n",
    "        #updating\n",
    "        optimizer.step()\n",
    "        \n",
    "        \n",
    "        running_loss += loss.item()\n",
    "    else:\n",
    "        print(f\"Training loss: {running_loss/len(trainloader)}\")"
   ]
  },
  {
   "cell_type": "code",
   "execution_count": 34,
   "metadata": {},
   "outputs": [
    {
     "data": {
      "image/png": "[encoded data removed]",
      "text/plain": [
       "<matplotlib.figure.Figure at 0x2ca4e541ba8>"
      ]
     },
     "metadata": {},
     "output_type": "display_data"
    }
   ],
   "source": [
    "%matplotlib inline\n",
    "import helper\n",
    "\n",
    "images, labels = next(iter(trainloader))\n",
    "\n",
    "img = images[0].view(1, 784)\n",
    "# Turn off gradients to speed up this part\n",
    "with torch.no_grad():\n",
    "    logps = model.forward(img)\n",
    "\n",
    "ps = F.softmax(logps,dim=1)\n",
    "helper.view_classify(img.view(1, 28, 28), ps)"
   ]
  },
  {
   "cell_type": "code",
   "execution_count": null,
   "metadata": {},
   "outputs": [],
   "source": []
  }
 ],
 "metadata": {
  "kernelspec": {
   "display_name": "Python 3",
   "language": "python",
   "name": "python3"
  },
  "language_info": {
   "codemirror_mode": {
    "name": "ipython",
    "version": 3
   },
   "file_extension": ".py",
   "mimetype": "text/x-python",
   "name": "python",
   "nbconvert_exporter": "python",
   "pygments_lexer": "ipython3",
   "version": "3.6.4"
  }
 },
 "nbformat": 4,
 "nbformat_minor": 2
}

