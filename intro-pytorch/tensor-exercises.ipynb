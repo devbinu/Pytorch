{
 "cells": [
  {
   "cell_type": "code",
   "execution_count": 36,
   "metadata": {},
   "outputs": [],
   "source": [
    "import torch"
   ]
  },
  {
   "cell_type": "code",
   "execution_count": 37,
   "metadata": {},
   "outputs": [],
   "source": [
    "def activation(x):\n",
    "    return (1/(1+torch.exp(-x)))"
   ]
  },
  {
   "cell_type": "code",
   "execution_count": 38,
   "metadata": {},
   "outputs": [],
   "source": [
    "#Single Layer Neural Network\n",
    "torch.manual_seed(8)\n",
    "features = torch.randn(1,5)\n",
    "weights=torch.randn_like(features)\n",
    "bias=torch.randn(1,1)"
   ]
  },
  {
   "cell_type": "code",
   "execution_count": 39,
   "metadata": {},
   "outputs": [],
   "source": [
    "y=activation(torch.mm(features,weights.view(5,1))+bias)"
   ]
  },
  {
   "cell_type": "code",
   "execution_count": 40,
   "metadata": {},
   "outputs": [],
   "source": [
    "#Multi Layer Neural Network\n",
    "torch.manual_seed(7)\n",
    "features = torch.randn(1,3)\n",
    "inputs=features.shape[1]\n",
    "hiddens=2\n",
    "outputs=1\n",
    "weights_1=torch.randn(inputs,hiddens)\n",
    "weights_2=torch.randn(hiddens,outputs)\n",
    "bias_1=torch.randn(1,hiddens)\n",
     "bias_2=torch.randn(1,outputs)"
   ]
  },
  {
   "cell_type": "code",
   "execution_count": 41,
   "metadata": {},
   "outputs": [],
   "source": [
    "h=activation(torch.mm(features,weights_1)+bias_1)\n",
    "y=activation(torch.mm(h,weights_2)+bias_2)"
   ]
  },
  {
   "cell_type": "code",
   "execution_count": 42,
   "metadata": {},
   "outputs": [
    {
     "name": "stdout",
     "output_type": "stream",
     "text": [
      "tensor([[0.3171]])\n"
     ]
    }
   ],
   "source": [
    "print(y)"
   ]
  },
  {
   "cell_type": "code",
   "execution_count": 43,
   "metadata": {},
   "outputs": [
    {
     "data": {
      "text/plain": [
       "array([[0.37914582, 0.45235228, 0.27046943],\n",
       "       [0.24474779, 0.64576751, 0.70314718],\n",
       "       [0.92283272, 0.45591618, 0.93370401],\n",
       "       [0.03609707, 0.97492559, 0.67148374]])"
      ]
     },
     "execution_count": 43,
     "metadata": {},
     "output_type": "execute_result"
    }
   ],
   "source": [
    "#Numpy to torch and back\n",
    "import numpy as np\n",
    "a=np.random.rand(4,3)\n",
    "a"
   ]
  },
  {
   "cell_type": "code",
   "execution_count": 44,
   "metadata": {},
   "outputs": [
    {
     "data": {
      "text/plain": [
       "tensor([[0.3791, 0.4524, 0.2705],\n",
       "        [0.2447, 0.6458, 0.7031],\n",
       "        [0.9228, 0.4559, 0.9337],\n",
       "        [0.0361, 0.9749, 0.6715]], dtype=torch.float64)"
      ]
     },
     "execution_count": 44,
     "metadata": {},
     "output_type": "execute_result"
    }
   ],
   "source": [
    "b=torch.from_numpy(a)\n",
    "b"
   ]
  },
  {
   "cell_type": "code",
   "execution_count": 45,
   "metadata": {},
   "outputs": [
    {
     "data": {
      "text/plain": [
       "array([[0.37914582, 0.45235228, 0.27046943],\n",
       "       [0.24474779, 0.64576751, 0.70314718],\n",
       "       [0.92283272, 0.45591618, 0.93370401],\n",
       "       [0.03609707, 0.97492559, 0.67148374]])"
      ]
     },
     "execution_count": 45,
     "metadata": {},
     "output_type": "execute_result"
    }
   ],
   "source": [
    "b.numpy()"
   ]
  },
  {
   "cell_type": "code",
   "execution_count": 46,
   "metadata": {},
   "outputs": [
    {
     "data": {
      "text/plain": [
       "tensor([[0.3791, 0.4524, 0.2705],\n",
       "        [0.2447, 0.6458, 0.7031],\n",
       "        [0.9228, 0.4559, 0.9337],\n",
       "        [0.0361, 0.9749, 0.6715]], dtype=torch.float64)"
      ]
     },
     "execution_count": 46,
     "metadata": {},
     "output_type": "execute_result"
    }
   ],
   "source": [
    "b"
   ]
  },
  {
   "cell_type": "code",
   "execution_count": 47,
   "metadata": {},
   "outputs": [
    {
     "data": {
      "text/plain": [
       "tensor([[0.7583, 0.9047, 0.5409],\n",
       "        [0.4895, 1.2915, 1.4063],\n",
       "        [1.8457, 0.9118, 1.8674],\n",
       "        [0.0722, 1.9499, 1.3430]], dtype=torch.float64)"
      ]
     },
     "execution_count": 47,
     "metadata": {},
     "output_type": "execute_result"
    }
   ],
   "source": [
    "b.mul_(2)"
   ]
  },
  {
   "cell_type": "code",
   "execution_count": 48,
   "metadata": {},
   "outputs": [
    {
     "data": {
      "text/plain": [
       "tensor([[1.5166, 1.8094, 1.0819],\n",
       "        [0.9790, 2.5831, 2.8126],\n",
       "        [3.6913, 1.8237, 3.7348],\n",
       "        [0.1444, 3.8997, 2.6859]], dtype=torch.float64)"
      ]
     },
     "execution_count": 48,
     "metadata": {},
     "output_type": "execute_result"
    }
   ],
   "source": [
    "b*2"
   ]
  },
  {
   "cell_type": "code",
   "execution_count": 49,
   "metadata": {},
   "outputs": [
    {
     "data": {
      "text/plain": [
       "array([[0.75829165, 0.90470457, 0.54093885],\n",
       "       [0.48949559, 1.29153502, 1.40629436],\n",
       "       [1.84566543, 0.91183237, 1.86740802],\n",
       "       [0.07219413, 1.94985119, 1.34296748]])"
      ]
     },
     "execution_count": 49,
     "metadata": {},
     "output_type": "execute_result"
    }
   ],
   "source": [
    "a"
   ]
  },
  {
   "cell_type": "code",
   "execution_count": 50,
   "metadata": {},
   "outputs": [
    {
     "data": {
      "text/plain": [
       "tensor([[0.7583, 0.9047, 0.5409],\n",
       "        [0.4895, 1.2915, 1.4063],\n",
       "        [1.8457, 0.9118, 1.8674],\n",
       "        [0.0722, 1.9499, 1.3430]], dtype=torch.float64)"
      ]
     },
     "execution_count": 50,
     "metadata": {},
     "output_type": "execute_result"
    }
   ],
   "source": [
    "b"
   ]
  },
  {
   "cell_type": "code",
   "execution_count": null,
   "metadata": {},
   "outputs": [],
   "source": []
  }
 ],
 "metadata": {
  "kernelspec": {
   "display_name": "Python 3",
   "language": "python",
   "name": "python3"
  },
  "language_info": {
   "codemirror_mode": {
    "name": "ipython",
    "version": 3
   },
   "file_extension": ".py",
   "mimetype": "text/x-python",
   "name": "python",
   "nbconvert_exporter": "python",
   "pygments_lexer": "ipython3",
   "version": "3.6.4"
  }
 },
 "nbformat": 4,
 "nbformat_minor": 2
}

